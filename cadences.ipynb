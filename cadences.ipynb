{
 "cells": [
  {
   "cell_type": "markdown",
   "metadata": {},
   "source": [
    "### Libraries and functions"
   ]
  },
  {
   "cell_type": "code",
   "execution_count": 1,
   "metadata": {},
   "outputs": [],
   "source": [
    "from __future__ import print_function\n",
    "%matplotlib inline\n",
    "\n",
    "\n",
    "import os\n",
    "\n",
    "import numpy as np\n",
    "import matplotlib.pyplot as plt\n",
    "import pandas as pd\n",
    "import healpy as hp\n",
    "from scipy.stats import binned_statistic\n",
    "from ipywidgets import widgets\n",
    "from IPython.display import display\n",
    "import time\n",
    "\n",
    "# LSST libraries, MAF metrics\n",
    "\n",
    "import lsst.sims.maf.slicers as slicers\n",
    "import lsst.sims.maf.metrics as metrics\n",
    "import lsst.sims.maf.db as db\n",
    "from lsst.sims.featureScheduler import utils as schedUtils\n",
    "import lsst.sims.maf.metricBundles as mb\n",
    "import lsst.sims.maf.plots as plots\n",
    "import lsst.sims.maf.batches as batches\n",
    "\n",
    "# Py file with functions\n",
    "from functions import *"
   ]
  },
  {
   "cell_type": "markdown",
   "metadata": {},
   "source": [
    "### Chose init data \n",
    "### Constants"
   ]
  },
  {
   "cell_type": "code",
   "execution_count": 2,
   "metadata": {},
   "outputs": [],
   "source": [
    "# mjd_array = []\n",
    "# opsim = []"
   ]
  },
  {
   "cell_type": "code",
   "execution_count": 3,
   "metadata": {
    "scrolled": true
   },
   "outputs": [
    {
     "name": "stdout",
     "output_type": "stream",
     "text": [
      "Choose filter: \n"
     ]
    },
    {
     "data": {
      "application/vnd.jupyter.widget-view+json": {
       "model_id": "75900d8733ad416183420defcef1c654",
       "version_major": 2,
       "version_minor": 0
      },
      "text/plain": [
       "interactive(children=(Select(description='data', options=('g', 'r', 'u', 'z'), value='g'), Output()), _dom_cla…"
      ]
     },
     "metadata": {},
     "output_type": "display_data"
    },
    {
     "name": "stdout",
     "output_type": "stream",
     "text": [
      "Choose opsims: \n"
     ]
    },
    {
     "data": {
      "application/vnd.jupyter.widget-view+json": {
       "model_id": "e24671346f0744f68d8d02f44f17a7b8",
       "version_major": 2,
       "version_minor": 0
      },
      "text/plain": [
       "interactive(children=(Select(description='data', options=('FBS 1.5: AGN DDF', 'FBS 1.5: BASELINE', 'FBS 1.5: R…"
      ]
     },
     "metadata": {},
     "output_type": "display_data"
    },
    {
     "name": "stdout",
     "output_type": "stream",
     "text": [
      "Choose RA:\n"
     ]
    },
    {
     "data": {
      "application/vnd.jupyter.widget-view+json": {
       "model_id": "9d332a537a324e16afe671a4c2b7d60a",
       "version_major": 2,
       "version_minor": 0
      },
      "text/plain": [
       "Text(value='', placeholder='Right accension')"
      ]
     },
     "metadata": {},
     "output_type": "display_data"
    },
    {
     "name": "stdout",
     "output_type": "stream",
     "text": [
      "Choose DEC:\n"
     ]
    },
    {
     "data": {
      "application/vnd.jupyter.widget-view+json": {
       "model_id": "4cd90eddf10e4225af1e63278d6ecd1a",
       "version_major": 2,
       "version_minor": 0
      },
      "text/plain": [
       "Text(value='', placeholder='Declination')"
      ]
     },
     "metadata": {},
     "output_type": "display_data"
    },
    {
     "name": "stdout",
     "output_type": "stream",
     "text": [
      "Choose Noise:\n"
     ]
    },
    {
     "data": {
      "application/vnd.jupyter.widget-view+json": {
       "model_id": "712fd3bcf69f4bff92bcc935cad403c3",
       "version_major": 2,
       "version_minor": 0
      },
      "text/plain": [
       "interactive(children=(Select(description='data', options=('1%', '2%', '5%', '10%'), value='1%'), Output()), _d…"
      ]
     },
     "metadata": {},
     "output_type": "display_data"
    },
    {
     "name": "stdout",
     "output_type": "stream",
     "text": [
      "Choose amplitude:\n"
     ]
    },
    {
     "data": {
      "application/vnd.jupyter.widget-view+json": {
       "model_id": "58a3f73380914442bcd32715a03ae269",
       "version_major": 2,
       "version_minor": 0
      },
      "text/plain": [
       "Text(value='0.2', placeholder='Amplitude')"
      ]
     },
     "metadata": {},
     "output_type": "display_data"
    }
   ],
   "source": [
    "\n",
    "# HTML for filters\n",
    "# This part of the code is for choosing only\n",
    "def select_data_filters(data):\n",
    "    # scFilter.options = filters[data]\n",
    "    print(data)\n",
    "    \n",
    "filters={'g':'g','r':'r', 'u':'u', 'z':'z'}\n",
    "scFilter = widgets.Select(options=filters.keys())\n",
    "init = scFilter.value\n",
    "i = widgets.interactive(select_data_filters, data=scFilter)\n",
    "print('Choose filter: ');\n",
    "display(i)\n",
    "\n",
    "# Choose OpSim Realisation\n",
    "opsims = {\n",
    "    'FBS 1.5: AGN DDF' : 'agnddf_v1.5_10yrs.db',\n",
    "    'FBS 1.5: BASELINE' : 'baseline_v1.5_10yrs.db',\n",
    "    'FBS 1.5: ROLLING MOD 6' : 'rolling_mod6_sdf_0.20_v1.5_10yrs.db'\n",
    "}\n",
    "scOpSims = widgets.Select(options=opsims.keys())\n",
    "init2 = scOpSims.value\n",
    "\n",
    "def select_data_opsims(data):\n",
    "    print(data)\n",
    "    # scOpSims.options = opsims[data]\n",
    "\n",
    "j = widgets.interactive(select_data_opsims, data=scOpSims)\n",
    "print('Choose opsims: ');\n",
    "display(j)\n",
    "\n",
    "\n",
    "\n",
    "# Choose RA\n",
    "print('Choose RA:')\n",
    "scRa = widgets.Text(placeholder=\"Right accension\");\n",
    "display(scRa);\n",
    "\n",
    "# Choose DEC\n",
    "print('Choose DEC:')\n",
    "scDec = widgets.Text(placeholder=\"Declination\");\n",
    "display(scDec);\n",
    "\n",
    "#Choose noise\n",
    "print ('Choose Noise:');\n",
    "def select_data_noise(data):\n",
    "    # cityW.options = noises[data]\n",
    "    print(data);\n",
    "noises={'1%':'0.01','2%':'0.02', '5%':'0.05', '10%':'0.1'}\n",
    "scNoises = widgets.Select(options=noises.keys())\n",
    "init3 = scNoises.value\n",
    "k = widgets.interactive(select_data_noise, data=scNoises)\n",
    "display(k)\n",
    "\n",
    "np.random.seed(0)\n",
    "sigma=0.18/np.sqrt(2) # standard deviation for DRW\n",
    "tau=500. # time lag\n",
    "long=10*365 # survey duration in days\n",
    "deltatc=1. # cadence for LC_conti\n",
    "\n",
    "\n",
    "\n",
    "#Choose amplitude\n",
    "print('Choose amplitude:')\n",
    "scAmp = widgets.Text(placeholder=\"Amplitude\", value=\"0.2\");\n",
    "display(scAmp);\n",
    "\n"
   ]
  },
  {
   "cell_type": "markdown",
   "metadata": {},
   "source": [
    "### Read Params"
   ]
  },
  {
   "cell_type": "code",
   "execution_count": 4,
   "metadata": {},
   "outputs": [],
   "source": [
    "fil = scFilter.value;\n",
    "opsim = opsims[scOpSims.value];\n",
    "\n",
    "if not scRa.value or len(scRa.value) == 0 :\n",
    "    ra = 0;\n",
    "else:\n",
    "    ra = int(scRa.value)\n",
    "\n",
    "if not scDec.value or len(scDec.value) == 0 :\n",
    "    dec = np.radians(-30);\n",
    "else:\n",
    "    ra = np.radians(int(scDec.value));\n",
    "\n",
    "    \n",
    "noise = float(noises[scNoises.value]);\n",
    "amp = float(scAmp.value);\n",
    "\n",
    "# get opsim path\n",
    "dbfile = '/home/idies/workspace/lsst_cadence/FBS_1.5/' + opsim;\n",
    "outDir = '../tmp/'\n",
    "opsdb = db.OpsimDatabase(dbfile)\n",
    "\n"
   ]
  },
  {
   "cell_type": "markdown",
   "metadata": {},
   "source": [
    "### Get cadences"
   ]
  },
  {
   "cell_type": "code",
   "execution_count": 8,
   "metadata": {},
   "outputs": [
    {
     "name": "stdout",
     "output_type": "stream",
     "text": [
      "Querying database SummaryAllProps with constraint filter = 'g' for columns ['fiveSigmaDepth', 'fieldDec', 'fieldRA', 'observationStartMJD', 'filter']\n",
      "Found 214351 visits\n",
      "Running:  [0]\n",
      "Completed metric generation.\n",
      "Running reduce methods.\n",
      "Running summary statistics.\n",
      "Completed.\n"
     ]
    },
    {
     "ename": "TypeError",
     "evalue": "cannot unpack non-iterable NoneType object",
     "output_type": "error",
     "traceback": [
      "\u001b[0;31m\u001b[0m",
      "\u001b[0;31mTypeError\u001b[0mTraceback (most recent call last)",
      "\u001b[0;32m<ipython-input-8-e82747d053df>\u001b[0m in \u001b[0;36m<module>\u001b[0;34m\u001b[0m\n\u001b[1;32m      2\u001b[0m \u001b[0;34m\u001b[0m\u001b[0m\n\u001b[1;32m      3\u001b[0m \u001b[0mmjd\u001b[0m \u001b[0;34m=\u001b[0m  \u001b[0mgetOpSimCadence\u001b[0m\u001b[0;34m(\u001b[0m\u001b[0mopsdb\u001b[0m\u001b[0;34m,\u001b[0m \u001b[0mopsim\u001b[0m\u001b[0;34m,\u001b[0m \u001b[0mra\u001b[0m\u001b[0;34m,\u001b[0m \u001b[0mdec\u001b[0m\u001b[0;34m,\u001b[0m \u001b[0mfil\u001b[0m\u001b[0;34m)\u001b[0m\u001b[0;34m;\u001b[0m\u001b[0;34m\u001b[0m\u001b[0;34m\u001b[0m\u001b[0m\n\u001b[0;32m----> 4\u001b[0;31m \u001b[0mLC_SF_viz\u001b[0m\u001b[0;34m(\u001b[0m\u001b[0mdeltatc\u001b[0m\u001b[0;34m,\u001b[0m \u001b[0mlong\u001b[0m\u001b[0;34m,\u001b[0m \u001b[0;34m[\u001b[0m\u001b[0mmjd\u001b[0m\u001b[0;34m]\u001b[0m\u001b[0;34m,\u001b[0m \u001b[0;34m[\u001b[0m\u001b[0mopsim\u001b[0m\u001b[0;34m]\u001b[0m\u001b[0;34m,\u001b[0m \u001b[0mnoise\u001b[0m\u001b[0;34m,\u001b[0m \u001b[0mamp\u001b[0m\u001b[0;34m)\u001b[0m\u001b[0;34m;\u001b[0m\u001b[0;34m\u001b[0m\u001b[0;34m\u001b[0m\u001b[0m\n\u001b[0m",
      "\u001b[0;32m~/workspace/Storage/rviktor/persistent/LSST_OpSim/Scripts_NBs/Novo_dec20/functions.py\u001b[0m in \u001b[0;36mLC_SF_viz\u001b[0;34m(long, deltatc, opsims, labels, oscillations, A, P)\u001b[0m\n\u001b[1;32m    243\u001b[0m \u001b[0;34m\u001b[0m\u001b[0m\n\u001b[1;32m    244\u001b[0m     \u001b[0;31m# Every time the LC_conti function is called, a random simulated light curve is generated. We do this only once because\u001b[0m\u001b[0;34m\u001b[0m\u001b[0;34m\u001b[0m\u001b[0;34m\u001b[0m\u001b[0m\n\u001b[0;32m--> 245\u001b[0;31m     \u001b[0;31m# we want to evaluate OpSim light curves on the same referent continuous light curve.\u001b[0m\u001b[0;34m\u001b[0m\u001b[0;34m\u001b[0m\u001b[0;34m\u001b[0m\u001b[0m\n\u001b[0m\u001b[1;32m    246\u001b[0m     \u001b[0myy\u001b[0m\u001b[0;34m,\u001b[0m \u001b[0mtt\u001b[0m \u001b[0;34m=\u001b[0m \u001b[0mLC_conti\u001b[0m\u001b[0;34m(\u001b[0m\u001b[0mlong\u001b[0m\u001b[0;34m,\u001b[0m \u001b[0mdeltatc\u001b[0m\u001b[0;34m,\u001b[0m \u001b[0moscillations\u001b[0m\u001b[0;34m,\u001b[0m \u001b[0mA\u001b[0m\u001b[0;34m,\u001b[0m \u001b[0mP\u001b[0m\u001b[0;34m)\u001b[0m\u001b[0;34m\u001b[0m\u001b[0;34m\u001b[0m\u001b[0m\n\u001b[1;32m    247\u001b[0m \u001b[0;34m\u001b[0m\u001b[0m\n",
      "\u001b[0;31mTypeError\u001b[0m: cannot unpack non-iterable NoneType object"
     ]
    }
   ],
   "source": [
    "# Start everything\n",
    "\n",
    "mjd =  getOpSimCadence(opsdb, opsim, ra, dec, fil);\n",
    "#LC_SF_viz(deltatc, long, [mjd], [opsim], noise, amp);"
   ]
  },
  {
   "cell_type": "code",
   "execution_count": null,
   "metadata": {},
   "outputs": [],
   "source": []
  }
 ],
 "metadata": {
  "kernelspec": {
   "display_name": "Python 3",
   "language": "python",
   "name": "python3"
  },
  "language_info": {
   "codemirror_mode": {
    "name": "ipython",
    "version": 3
   },
   "file_extension": ".py",
   "mimetype": "text/x-python",
   "name": "python",
   "nbconvert_exporter": "python",
   "pygments_lexer": "ipython3",
   "version": "3.7.9"
  }
 },
 "nbformat": 4,
 "nbformat_minor": 4
}
