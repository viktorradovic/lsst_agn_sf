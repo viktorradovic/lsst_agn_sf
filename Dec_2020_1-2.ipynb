{
 "cells": [
  {
   "cell_type": "markdown",
   "metadata": {},
   "source": [
    "### Libraries for LSST cadences extraction"
   ]
  },
  {
   "cell_type": "code",
   "execution_count": 24,
   "metadata": {},
   "outputs": [],
   "source": [
    "\n",
    "from __future__ import print_function\n",
    "%matplotlib inline\n",
    "import os\n",
    "import numpy as np\n",
    "import matplotlib.pyplot as plt\n",
    "import lsst.sims.maf.slicers as slicers\n",
    "import lsst.sims.maf.metrics as metrics\n",
    "import lsst.sims.maf.db as db\n",
    "import pandas as pd\n",
    "import healpy as hp\n",
    "from lsst.sims.featureScheduler import utils as schedUtils\n",
    "import lsst.sims.maf.metricBundles as mb\n",
    "import lsst.sims.maf.plots as plots\n",
    "import lsst.sims.maf.batches as batches\n",
    "from scipy.stats import binned_statistic\n",
    "from ipywidgets import widgets\n",
    "from IPython.display import display\n"
   ]
  },
  {
   "cell_type": "markdown",
   "metadata": {},
   "source": [
    "### Functions"
   ]
  },
  {
   "cell_type": "code",
   "execution_count": 25,
   "metadata": {},
   "outputs": [],
   "source": [
    "# GENRISANJE KRIVE KOJA JE NA 10 GODINA ALI NEPREKIDNA TJ. JEDAN DAN JE KADENCA\n",
    "\n",
    "def LC_conti(deltatc, long, sigma, tau,  noise=0.05, A=0.2, oscilations=True, P=1000):\n",
    "    \"\"\" \n",
    "    Parameters:\n",
    "    -----------\n",
    "    deltatc: float or int\n",
    "        Cadence (time interval between two observations or samplings of the light curve in days).\n",
    "    long: int\n",
    "        Duration of the survey in days.\n",
    "    sigma: float\n",
    "        Standard deviation for Dumped Random Walk (DRW).\n",
    "    tau: float or int\n",
    "        Time lag.\n",
    "    oscilations: bool, default=True\n",
    "        If True, light curve simulation will take the oscilatory signal into account.\n",
    "    P: float or int, default=500\n",
    "        Period of the oscilatory signal in days.\n",
    "    A: float or int, default=0.2\n",
    "        Amplitude of the oscilatory signal in magnitudes.\n",
    "    noise: float, default=0.05\n",
    "        Add noise to the simulated light curve.\n",
    "     \n",
    "    Returns:\n",
    "    --------\n",
    "    yy: np.array\n",
    "        Obesrved light curve points (Eq. 17 in Kovacevic+2020).\n",
    "    tt: np.array\n",
    "        Days during the survey on which we had an observation.\n",
    "    \"\"\"\n",
    "    # Kreiramo array gde imamo vremena (dane) kada je bilo posmatranje. Korak je ustvari kadenca.\n",
    "    # U slucaju da je kadenca 1, kao sada, onda imamo tt=[0,1,...3650), tj. svaki dan je bilo posmatranje.\n",
    "    # Malo je nezgodno ako promenimo kadencu posto ce tt biti kraci niz,  a u donjoj for petlji se stavljaju indeksi preko long\n",
    "    # a to je uvek 10*365. Mada ova funkcija je namenjena u principu samo za kontinualne svetlosne krive.\n",
    "    a = 5;\n",
    "    b = a + 5;\n",
    "\n",
    "    tt = np.arange(0, long, int(deltatc))\n",
    "    times = tt.shape[0]\n",
    "    # Tu ce biti light curve points (p_i)\n",
    "    ss = np.zeros(times)\n",
    "    # Na prvo mesto u nizu se stavlja jedan broj izvucen iz normalne raspodele (mu=0, sigma).\n",
    "    ss[0] = np.random.normal(0, sigma, 1)\n",
    "    # Deo iz Eq (16). Kasnije se koristi kao sigma za izvlacenje iz normalne raspodele.\n",
    "    ssigma1=sigma*np.sqrt((1-np.exp(-2*deltatc/tau)))\n",
    "    \n",
    "    if oscilations == True:\n",
    "        # kreiraju se arrays duzine 10*365=3650. Svaki clan ima vrednost 0 (za sad)\n",
    "        # Ovo ce biti poslednji clan Eq (17), gde dobijamo observed light curve.\n",
    "        # Listamo redom za svaki dan survey-a od 10 godina. Preskace se prvi clan (vec je izvucen iz normalne raspodele).\n",
    "        sinus=np.zeros(times)\n",
    "        for i in range(1, times):\n",
    "            # Deo iz Eq (17) koji opisuje periodicnost. \n",
    "            sinus[i]=A*np.sin(2*np.pi*i/P)\n",
    "            # Eq (16). Generisanje tacaka za svetlosnu krivu. \n",
    "            ss[i] = ss[i-1]*np.exp(-deltatc/tau) + np.random.normal(0, ssigma1,1)\n",
    "            \n",
    "        # Observed light curve\n",
    "        yy = np.zeros(times)\n",
    "        for i in range(times):\n",
    "            # Eq (17). Generisanje posmatrane svetlosne krive (sa dodatim sumom i sinusnim clanom koji je povezan sa periodom).\n",
    "            yy[i]=ss[i]+np.random.normal(0,(noise*np.abs(ss[i])),1)+sinus[i]\n",
    "        \n",
    "        return yy, tt\n",
    "    \n",
    "    \n",
    "    elif oscilations == False:\n",
    "        for i in range(1, times): \n",
    "            ss[i] = ss[i-1]*np.exp(-deltatc/tau) + np.random.normal(0, ssigma1,1)\n",
    "        yy=np.zeros(times)\n",
    "        for i in range(times):\n",
    "            # Eq (17). Generisanje posmatrane svetlosne krive (sa dodatim sumom i sinusnim clanom koji je povezan sa periodom).\n",
    "            yy[i]=ss[i]+np.random.normal(0,(noise*np.abs(ss[i])),1)\n",
    "        \n",
    "        return yy, tt\n",
    "\n",
    "        #dtt=[]\n",
    "        #dyy1=[]\n",
    "        # i=0 -- i=3648 (shape=3649)\n",
    "        #for i in range(long-1):\n",
    "            # j=1 -- j=3649 (shape=3649)\n",
    "        #    for j in range(i+1,long):\n",
    "                # Delta tt, dobijamo interval izmedju dva uzastopna merenja. Sada je to uvek 1, ali ne mora biti (zavisi od kadence).\n",
    "        #       dtt.append(tt[j]-tt[i])\n",
    "                # Zasto se ovo mnozi??\n",
    "        #        dyy1.append((yy[j]-yy[i])*(yy[j]-yy[i]))\n",
    "    \n",
    "#tceil=np.ceil(mjd-mjd.min()) # Ne bi trebalo ovo da bude ovde?\n",
    "\n",
    "\n",
    "\n",
    "#SA OVIM IZVLACIMO U OPSIM TRENUCIMA VREDNOSTI KRIVE\n",
    "def LC_opsim(mjd,t,y):\n",
    "    \"\"\" \n",
    "    Parameters:\n",
    "    -----------\n",
    "    mjd: np.array\n",
    "        Modified Julian Date obtained from OpSim. It is the time of each sampling for the light curve.\n",
    "    t: np.array\n",
    "        Days during the survey on which we had an observation for continuous simulated light curve (cadence = 1 day).\n",
    "    y: np.array\n",
    "        Obesrved light curve points (Eq. 17 in Kovacevic+2020) for continuous simulated light curve (cadence = 1 day).\n",
    "     \n",
    "    Returns:\n",
    "    --------\n",
    "    top: np.array\n",
    "        Days during the survey on which we had an observation (sampling) in a given OpSim.\n",
    "    yop: np.array\n",
    "        Observed light curve points taken from the continuous light curve on days we had an observation (sampling) in a \n",
    "        given OpSim.\n",
    "    \"\"\"\n",
    "    # Racunamo duzinu surveya (ALI SE NE KORISTI NIGDE, izbrisati?)\n",
    "    long=np.int(mjd.max()-mjd.min()+1)\n",
    "    \n",
    "    # np.ceil(x) je najmanji ceo broj i, tako da i>=x.\n",
    "    # Vremana (dani) kada je bilo posmatranje. Hocemo da mjd pretvorimo u dane posmatranja.\n",
    "    top=np.ceil(mjd-mjd.min())\n",
    "    \n",
    "    # Ovde cemo staviti tacke posmatrane svetlosne krive iz OpSim.\n",
    "    # Kasnije se t i y koriste iz LC_conti.\n",
    "    # Mislim da se ovde zapravo gledaju nasa vremena (kadenca = 1 dan) i vremena kada je za datu strategiju iz OpSima moglo\n",
    "    # da se izvede merenje. Ukoliko se nadje preklapanje dana (a naci ce se, posto imamo simuliranu krivu za svaki dan surveya),\n",
    "    # za taj dan se uzima merenje (simulirano iz LC_conti). Na taj nacin cemo videti kako razlicite OpSim strategije sampluju \n",
    "    # krivu sjaja.\n",
    "    \n",
    "    yop=[]\n",
    "    for i in range(len(top)):\n",
    "        abs_vals = np.abs(t-top[i])\n",
    "        bool_arr = abs_vals < 1\n",
    "        index = (np.where(bool_arr)[0])[0]\n",
    "        yop.append(y[index])\n",
    "    yop=np.asarray(yop)\n",
    "    \n",
    "    return top,yop\n",
    "  \n",
    "\n",
    "def sf(rol1t,rol1):\n",
    "    \"\"\"\n",
    "    Parameters:\n",
    "    -----------\n",
    "    rol1t: np.array\n",
    "        Days during the survey on which we had an observation (sampling) in a given OpSim.\n",
    "    rol1: np.array\n",
    "        Observed light curve points taken from the continuous light curve on days we had an observation (sampling) in a \n",
    "        given OpSim.\n",
    "\n",
    "    Returns:\n",
    "    --------\n",
    "    srol: np.array\n",
    "        Mean of the squared flux difference between consecutive light curve points in a bin with edges \n",
    "        defined by edgesrol. Used for plotting the y-axis of the structure function visualization.\n",
    "    edgesrol: np.array\n",
    "        Bin edges for the range of intervals between consecutive observation times for a given OpSim. Used for plotting the\n",
    "        x-axis in the structure function visualization.\n",
    "    \"\"\"\n",
    "    # Kasnije se koristi: rol1t = top, rol1 = yop\n",
    "    #KK=len(rol1t) # broj tacaka (mozda suvisno jer se ponovo definise kasnije, a pre toga se ne koristi)\n",
    "    dtr=[]\n",
    "    dy1r=[]\n",
    "    KK=np.asarray(rol1.shape)[0] # broj opsim tacaka\n",
    "    for i in range(KK-1):\n",
    "        dtr.append(rol1t[i+1:KK] - rol1t[i])\n",
    "        dy1r.append((rol1[i+1:KK] - rol1[i])*(rol1[i+1:KK] - rol1[i]))\n",
    "\n",
    "    dtr = np.concatenate(dtr, axis=0)\n",
    "    dy1r = np.concatenate(dy1r, axis=0)\n",
    "    \n",
    "    #dtr=np.asarray(dtr)\n",
    "    #dy1r=np.asarray(dy1r)\n",
    "    \n",
    "    # Delimo dtr vrednosti (intervali izmedju uzastopnih vremena posmatranja) na binove i racunamo u svakom binu \n",
    "    # srednju vrednost odgovarajucih dy1r vrednosti (kvadrat razlike izmedju uzastopnih vrednosti fluksa svetlosne krive).\n",
    "    srol, edgesrol, _ = binned_statistic(dtr, dy1r, statistic='mean', bins=np.logspace(0,4,100))\n",
    "    \n",
    "    return srol,edgesrol\n",
    "\n",
    "def LC_SF_viz(deltatc, long, sigma, tau, opsims, labels, A=0.2, noise=0.05,  oscilations=True, P=500):\n",
    "   \n",
    "    # Every time the LC_conti function is called, a random simulated light curve is generated. We do this only once because\n",
    "    # we want to evaluate OpSim light curves on the same referent continuous light curve.\n",
    "    yy, tt = LC_conti(deltatc, long, sigma, tau, noise, A, oscilations, P)\n",
    "    \n",
    "    # Now, we calculate structure function for the continuous light curve.\n",
    "    \n",
    "    sc, edgesc = sf(tt, yy)\n",
    "    \n",
    "    # We create a figure where all the light curves will be stored.\n",
    "    fig1 = plt.figure(figsize=(15,10))\n",
    "    \n",
    "    # Continuous light curve is plotted first.\n",
    "    ax11 = fig1.add_subplot(len(opsims)+1,1,1)\n",
    "    ax11.plot(tt,yy, 'ko', markersize = 1, label='1 day cadence')\n",
    "    plt.setp(ax11.get_xticklabels(), visible=False)\n",
    "    custom_xlim = (0, long)\n",
    "    custom_ylim = (-3.5*A, 3.5*A)\n",
    "    ax11.set_ylabel('mag [ar.un.]', fontsize = 14)\n",
    "    ax11.tick_params(direction='in', pad = 5)\n",
    "    plt.setp(ax11, xlim=custom_xlim, ylim=custom_ylim)\n",
    "    ax11.legend()\n",
    "    ax11.grid(True)\n",
    "    \n",
    "    # We will store the results from each OpSim light curve and later use those to calculate their structure functions.\n",
    "    tops = []\n",
    "    yops = []\n",
    "    # Now we plot all OpSim light curves that user provided.\n",
    "    for i, mjd in enumerate(opsims):\n",
    "        top, yop = LC_opsim(mjd, tt, yy)\n",
    "        tops.append(top)\n",
    "        yops.append(yop)\n",
    "        \n",
    "        ax = fig1.add_subplot(len(opsims)+1,1,i+2)\n",
    "        ax.plot(top, yop, 'ko', markersize = 1, label='%s' %labels[i])\n",
    "        \n",
    "        if (i+1) == len(opsims):\n",
    "            ax.set_xlabel('t [days]', fontsize=14)\n",
    "        else:\n",
    "            plt.setp(ax.get_xticklabels(), visible=False)\n",
    "    \n",
    "        ax.set_ylabel('mag [ar.un.]', fontsize = 14)\n",
    "        ax.tick_params(direction='in', pad = 5)\n",
    "        plt.setp(ax, xlim=custom_xlim, ylim=custom_ylim)\n",
    "        ax.legend()\n",
    "        ax.grid(True)    \n",
    "    \n",
    "    tops = np.asarray(tops)\n",
    "    yops = np.asarray(yops)\n",
    "    \n",
    "    plt.subplots_adjust(left=None, bottom=None, right=None, top=None, wspace=None, hspace=0.05)\n",
    "    fig1.suptitle('Light curves', y=0.92, fontsize=17)\n",
    "    \n",
    "    plt.show()\n",
    "    \n",
    "    \n",
    "    # We create a second figure to store structure function plots.\n",
    "    fig2 = plt.figure(figsize=(15,6))\n",
    "    # First, we plot the structure function of the continuous light curve.\n",
    "    ax21 = fig2.add_subplot(121)\n",
    "    ax21.plot(np.log10(edgesc[:-1]+np.diff(edgesc)/2), np.log10(np.sqrt(sc)), 'ko-',linewidth=1, markersize=3,label='1 day cadence')\n",
    "    ax21.set_xlabel(r'$\\log_{10}(\\Delta t)$', fontsize = 14)\n",
    "    ax21.set_ylabel(r'$\\log_{10} \\ SF$', fontsize = 14)\n",
    "    \n",
    "    ax22 = fig2.add_subplot(122)\n",
    "    ax22.plot(np.log10(edgesc[:-1]+np.diff(edgesc)/2), np.sqrt(sc), 'ko-',linewidth=1, markersize=3,label='1 day cadence')\n",
    "    ax22.set_xlabel(r'$\\log_{10}(\\Delta t)$', fontsize = 14)\n",
    "    ax22.set_ylabel('SF', fontsize = 14)\n",
    "    \n",
    "    # We now plot the structure functions of OpSim light curves over the structure function of the continuous light curve.\n",
    "    color=iter(plt.cm.cool(np.linspace(0,1,len(opsims))))\n",
    "    i = 0 # counter\n",
    "    for topp, yopp in zip(tops, yops):\n",
    "        s, edge = sf(topp, yopp)\n",
    "        c=next(color)\n",
    "        ax21.plot(np.log10(edge[:-1]+np.diff(edge)/2), np.log10(np.sqrt(s)), c=c, linewidth=1, marker='o', markersize=3, label='%s'%labels[i])\n",
    "        ax22.plot(np.log10(edge[:-1]+np.diff(edge)/2), np.sqrt(s), c=c, linewidth=1, marker='o', markersize=3, label='%s'%labels[i])\n",
    "        i = i+1\n",
    "    \n",
    "    axs = [ax21, ax22]\n",
    "    \n",
    "    for ax in axs:\n",
    "        ax.tick_params(direction='in', pad = 5)\n",
    "        ax.legend()\n",
    "        ax.grid(True)\n",
    "        \n",
    "    fig2.suptitle('Structure functions', y=0.96, fontsize=17)\n",
    "    #fig2.show()\n",
    "    \n",
    "    \n",
    "# get opsim cadence file\n",
    "def getOpSimCadence(opsim, name, ra = 0, dec = 0, fil = 'r'):\n",
    "    \n",
    "    # We are only interested in date of observation for chosen filter and field point\n",
    "    colmn = 'observationStartMJD';\n",
    "    \n",
    "    # Directory where tmp files are going to be stored\n",
    "    outDir = 'TmpDir'\n",
    "    resultsDb = db.ResultsDb(outDir=outDir)\n",
    "    \n",
    "    # Using MAF PassMetrics to get all desired data from the chosen opsim realisation\n",
    "    metric=metrics.PassMetric(cols=[colmn,'fiveSigmaDepth', 'filter'])\n",
    "    \n",
    "    # Select RA and DEC\n",
    "    slicer = slicers.UserPointsSlicer(ra=ra,dec=dec)\n",
    "    \n",
    "    # Add sql constraint to select desired filter\n",
    "    sqlconstraint = 'filter = \\'' + fil + '\\''\n",
    "    \n",
    "    \n",
    "    # Run simulation\n",
    "    bundle = metricBundles.MetricBundle(\n",
    "        metric, slicer, sqlconstraint, runName=name)\n",
    "    bgroup = metricBundles.MetricBundleGroup(\n",
    "        {0: bundle}, opsdb, outDir=outDir, resultsDb=resultsDb)\n",
    "    bgroup.runAll();\n",
    "    filters = np.unique(bundle.metricValues[0]['filter'])\n",
    "    mv = bundle.metricValues[0]\n",
    "    \n",
    "    \n",
    "    # Get dates\n",
    "    mjd = len(mv[colmn])\n",
    "    \n",
    "    # Out file\n",
    "    filepath = name + \"_\" + str(ra) + \"_\" + str(dec) + \"_\" + fil +\".dat\";\n",
    "    with open(filepath, 'w') as file_handler:\n",
    "        for item in mv[colmn]:\n",
    "            file_handler.write(\"{}\\n\".format(item))\n",
    "\n",
    "    mjd=np.loadtxt(filepath)\n",
    "    mjd=np.sort(mjd)\n",
    "    \n",
    "    return mjd;"
   ]
  },
  {
   "cell_type": "markdown",
   "metadata": {},
   "source": [
    "### Chose init data \n",
    "### Constants"
   ]
  },
  {
   "cell_type": "code",
   "execution_count": 34,
   "metadata": {},
   "outputs": [],
   "source": [
    "# mjd_array = []\n",
    "# opsim = []"
   ]
  },
  {
   "cell_type": "code",
   "execution_count": 35,
   "metadata": {
    "scrolled": true
   },
   "outputs": [
    {
     "name": "stdout",
     "output_type": "stream",
     "text": [
      "Choose filter: \n"
     ]
    },
    {
     "data": {
      "application/vnd.jupyter.widget-view+json": {
       "model_id": "308787b0dba545899dc8a8e88107daee",
       "version_major": 2,
       "version_minor": 0
      },
      "text/plain": [
       "interactive(children=(Select(description='data', options=('g', 'r', 'u', 'z'), value='g'), Output()), _dom_cla…"
      ]
     },
     "metadata": {},
     "output_type": "display_data"
    },
    {
     "name": "stdout",
     "output_type": "stream",
     "text": [
      "Choose opsims: \n"
     ]
    },
    {
     "data": {
      "application/vnd.jupyter.widget-view+json": {
       "model_id": "97e4fc429cc3415a843ca65a0df60843",
       "version_major": 2,
       "version_minor": 0
      },
      "text/plain": [
       "interactive(children=(Select(description='data', options=('FBS 1.5: AGN DDF', 'FBS 1.5: BASELINE', 'FBS 1.5: R…"
      ]
     },
     "metadata": {},
     "output_type": "display_data"
    },
    {
     "name": "stdout",
     "output_type": "stream",
     "text": [
      "Choose RA:\n"
     ]
    },
    {
     "data": {
      "application/vnd.jupyter.widget-view+json": {
       "model_id": "85cbe8d0f23541d2bc2ca56bbbdabd4c",
       "version_major": 2,
       "version_minor": 0
      },
      "text/plain": [
       "Text(value='', placeholder='Right accension')"
      ]
     },
     "metadata": {},
     "output_type": "display_data"
    },
    {
     "name": "stdout",
     "output_type": "stream",
     "text": [
      "Choose DEC:\n"
     ]
    },
    {
     "data": {
      "application/vnd.jupyter.widget-view+json": {
       "model_id": "2a497f34d0834e0aa7d0594db6efcef2",
       "version_major": 2,
       "version_minor": 0
      },
      "text/plain": [
       "Text(value='', placeholder='Declination')"
      ]
     },
     "metadata": {},
     "output_type": "display_data"
    },
    {
     "name": "stdout",
     "output_type": "stream",
     "text": [
      "Choose Noise:\n"
     ]
    },
    {
     "data": {
      "application/vnd.jupyter.widget-view+json": {
       "model_id": "c844fcb9e59947fbb94ce9d195f0a388",
       "version_major": 2,
       "version_minor": 0
      },
      "text/plain": [
       "interactive(children=(Select(description='data', options=('1%', '2%', '5%', '10%'), value='1%'), Output()), _d…"
      ]
     },
     "metadata": {},
     "output_type": "display_data"
    },
    {
     "name": "stdout",
     "output_type": "stream",
     "text": [
      "Choose amplitude:\n"
     ]
    },
    {
     "data": {
      "application/vnd.jupyter.widget-view+json": {
       "model_id": "720e4f5299024b7c87aac944a02fe7a3",
       "version_major": 2,
       "version_minor": 0
      },
      "text/plain": [
       "Text(value='0.2', placeholder='Amplitude')"
      ]
     },
     "metadata": {},
     "output_type": "display_data"
    }
   ],
   "source": [
    "\n",
    "# HTML for filters\n",
    "# This part of the code is for choosing only\n",
    "def select_data_filters(data):\n",
    "    # scFilter.options = filters[data]\n",
    "    print(data)\n",
    "    \n",
    "filters={'g':'g','r':'r', 'u':'u', 'z':'z'}\n",
    "scFilter = widgets.Select(options=filters.keys())\n",
    "init = scFilter.value\n",
    "i = widgets.interactive(select_data_filters, data=scFilter)\n",
    "print('Choose filter: ');\n",
    "display(i)\n",
    "\n",
    "# Choose OpSim Realisation\n",
    "opsims = {\n",
    "    'FBS 1.5: AGN DDF' : 'agnddf_v1.5_10yrs.db',\n",
    "    'FBS 1.5: BASELINE' : 'baseline_v1.5_10yrs.db',\n",
    "    'FBS 1.5: ROLLING MOD 6' : 'rolling_mod6_sdf_0.20_v1.5_10yrs.db'\n",
    "}\n",
    "scOpSims = widgets.Select(options=opsims.keys())\n",
    "init2 = scOpSims.value\n",
    "\n",
    "def select_data_opsims(data):\n",
    "    print(data)\n",
    "    # scOpSims.options = opsims[data]\n",
    "\n",
    "j = widgets.interactive(select_data_opsims, data=scOpSims)\n",
    "print('Choose opsims: ');\n",
    "display(j)\n",
    "\n",
    "\n",
    "\n",
    "# Choose RA\n",
    "print('Choose RA:')\n",
    "scRa = widgets.Text(placeholder=\"Right accension\");\n",
    "display(scRa);\n",
    "\n",
    "# Choose DEC\n",
    "print('Choose DEC:')\n",
    "scDec = widgets.Text(placeholder=\"Declination\");\n",
    "display(scDec);\n",
    "\n",
    "#Choose noise\n",
    "print ('Choose Noise:');\n",
    "def select_data_noise(data):\n",
    "    # cityW.options = noises[data]\n",
    "    print(data);\n",
    "noises={'1%':'0.01','2%':'0.02', '5%':'0.05', '10%':'0.1'}\n",
    "scNoises = widgets.Select(options=noises.keys())\n",
    "init3 = scNoises.value\n",
    "k = widgets.interactive(select_data_noise, data=scNoises)\n",
    "display(k)\n",
    "\n",
    "np.random.seed(0)\n",
    "sigma=0.18/np.sqrt(2) # standard deviation for DRW\n",
    "tau=500. # time lag\n",
    "long=10*365 # survey duration in days\n",
    "deltatc=1. # cadence for LC_conti\n",
    "\n",
    "\n",
    "\n",
    "#Choose amplitude\n",
    "print('Choose amplitude:')\n",
    "scAmp = widgets.Text(placeholder=\"Amplitude\", value=\"0.2\");\n",
    "display(scAmp);\n",
    "\n"
   ]
  },
  {
   "cell_type": "markdown",
   "metadata": {},
   "source": [
    "### Read Params"
   ]
  },
  {
   "cell_type": "code",
   "execution_count": 36,
   "metadata": {},
   "outputs": [],
   "source": [
    "fil = scFilter.value;\n",
    "opsim = opsims[scOpSims.value];\n",
    "\n",
    "if not scRa.value or len(scRa.value) == 0 :\n",
    "    ra = 0;\n",
    "else:\n",
    "    ra = int(scRa.value)\n",
    "\n",
    "if not scDec.value or len(scDec.value) == 0 :\n",
    "    dec = np.radians(-30);\n",
    "else:\n",
    "    ra = np.radians(int(scDec.value));\n",
    "\n",
    "    \n",
    "noise = float(noises[scNoises.value]);\n",
    "amp = float(scAmp.value);\n",
    "\n",
    "# get opsim path\n",
    "dbfile = '/home/idies/workspace/lsst_cadence/FBS_1.5/' + opsim;\n",
    "outDir = '../tmp/'\n",
    "opsdb = db.OpsimDatabase(dbfile)\n",
    "\n"
   ]
  },
  {
   "cell_type": "markdown",
   "metadata": {},
   "source": [
    "### A bit of plotting "
   ]
  },
  {
   "cell_type": "code",
   "execution_count": 38,
   "metadata": {},
   "outputs": [
    {
     "name": "stdout",
     "output_type": "stream",
     "text": [
      "HealpixSubsetSlicer using NSIDE=64, approximate resolution 54.967783 arcminutes\n",
      "Querying database SummaryAllProps with no constraint for columns ['fieldDec', 'fieldRA', 'observationStartMJD'].\n",
      "Found 2180601 visits\n",
      "Running:  ['0']\n",
      "Completed metric generation.\n",
      "Running reduce methods.\n",
      "Running summary statistics.\n",
      "Completed.\n",
      "monopole: 987.361  dipole: lon: 40.1155, lat: -23.7511, amp: 43.4538\n"
     ]
    },
    {
     "name": "stderr",
     "output_type": "stream",
     "text": [
      "/home/idies/lsst/stack/miniconda3-4.7.10-4d7b902/Linux64/sims_maf/2.13.0.sims-24-gbe21ed04+1/python/lsst/sims/maf/utils/mafUtils.py:58: UserWarning: Optimal bin calculation tried to make 5488 bins, returning 200\n",
      "  warnings.warn('Optimal bin calculation tried to make %.0f bins, returning %i'%(nbins, nbinMax))\n"
     ]
    },
    {
     "data": {
      "text/plain": [
       "{'SkyMap': 3, 'Histogram': 4, 'PowerSpectrum': 5}"
      ]
     },
     "execution_count": 38,
     "metadata": {},
     "output_type": "execute_result"
    },
    {
     "data": {
      "image/png": "[encoded data removed]",
      "text/plain": [
       "<Figure size 612x388.8 with 2 Axes>"
      ]
     },
     "metadata": {
      "needs_background": "light"
     },
     "output_type": "display_data"
    },
    {
     "data": {
      "image/png": "[encoded data removed]",
      "text/plain": [
       "<Figure size 612x388.8 with 2 Axes>"
      ]
     },
     "metadata": {
      "needs_background": "light"
     },
     "output_type": "display_data"
    },
    {
     "data": {
      "image/png": "[encoded data removed]",
      "text/plain": [
       "<Figure size 432x288 with 2 Axes>"
      ]
     },
     "metadata": {
      "needs_background": "light"
     },
     "output_type": "display_data"
    },
    {
     "data": {
      "image/png": "[encoded data removed]",
      "text/plain": [
       "<Figure size 432x288 with 1 Axes>"
      ]
     },
     "metadata": {
      "needs_background": "light"
     },
     "output_type": "display_data"
    },
    {
     "data": {
      "image/png": "[encoded data removed]",
      "text/plain": [
       "<Figure size 432x288 with 1 Axes>"
      ]
     },
     "metadata": {
      "needs_background": "light"
     },
     "output_type": "display_data"
    }
   ],
   "source": [
    "\n",
    "# Let's count the visits .. \n",
    "metric = metrics.CountMetric('observationStartMJD', metricName='nvisits')\n",
    "\n",
    "# .. over the WFD region - so define the WFD footprint first.\n",
    "nside = 64\n",
    "wfd_standard = schedUtils.WFD_no_gp_healpixels(nside, dec_max=2.5, dec_min=-62.5)\n",
    "wfd_bigdust = schedUtils.WFD_no_dust_healpixels(nside, dec_max=12.25, dec_min=-72.5, dust_limit=0.19)\n",
    "hp.mollview(wfd_standard)\n",
    "hp.mollview(wfd_bigdust)\n",
    "# we'll use the standard WFD here, as that is what was used with the baseline.\n",
    "slicer = slicers.HealpixSubsetSlicer(nside, np.where(wfd_standard==1)[0])\n",
    "\n",
    "# And we will skip DD visits, so add a constraint to avoid them.\n",
    "constraint = 'note not like \"DD%\" and  filter = \\'' + fil + '\\'';\n",
    "bundle = mb.MetricBundle(metric, slicer)\n",
    "g = mb.MetricBundleGroup({'0': bundle}, opsdb, outDir=outDir)\n",
    "g.runAll()\n",
    "bundle.plot()"
   ]
  },
  {
   "cell_type": "markdown",
   "metadata": {},
   "source": [
    "### Get cadences"
   ]
  },
  {
   "cell_type": "code",
   "execution_count": 7,
   "metadata": {},
   "outputs": [
    {
     "ename": "NameError",
     "evalue": "name 'metricBundles' is not defined",
     "output_type": "error",
     "traceback": [
      "\u001b[0;31m\u001b[0m",
      "\u001b[0;31mNameError\u001b[0mTraceback (most recent call last)",
      "\u001b[0;32m<ipython-input-7-926ca593394d>\u001b[0m in \u001b[0;36m<module>\u001b[0;34m\u001b[0m\n\u001b[1;32m      1\u001b[0m \u001b[0;31m# Start everything\u001b[0m\u001b[0;34m\u001b[0m\u001b[0;34m\u001b[0m\u001b[0;34m\u001b[0m\u001b[0m\n\u001b[1;32m      2\u001b[0m \u001b[0;34m\u001b[0m\u001b[0m\n\u001b[0;32m----> 3\u001b[0;31m \u001b[0mmjd\u001b[0m \u001b[0;34m=\u001b[0m  \u001b[0mgetOpSimCadence\u001b[0m\u001b[0;34m(\u001b[0m\u001b[0mopsdb\u001b[0m\u001b[0;34m,\u001b[0m \u001b[0mopsim\u001b[0m\u001b[0;34m,\u001b[0m \u001b[0mra\u001b[0m\u001b[0;34m,\u001b[0m \u001b[0mdec\u001b[0m\u001b[0;34m,\u001b[0m \u001b[0mfil\u001b[0m\u001b[0;34m)\u001b[0m\u001b[0;34m;\u001b[0m\u001b[0;34m\u001b[0m\u001b[0;34m\u001b[0m\u001b[0m\n\u001b[0m\u001b[1;32m      4\u001b[0m \u001b[0mLC_SF_viz\u001b[0m\u001b[0;34m(\u001b[0m\u001b[0mdeltatc\u001b[0m\u001b[0;34m,\u001b[0m \u001b[0mlong\u001b[0m\u001b[0;34m,\u001b[0m \u001b[0msigma\u001b[0m\u001b[0;34m,\u001b[0m \u001b[0mtau\u001b[0m\u001b[0;34m,\u001b[0m \u001b[0;34m[\u001b[0m\u001b[0mmjd\u001b[0m\u001b[0;34m]\u001b[0m\u001b[0;34m,\u001b[0m \u001b[0;34m[\u001b[0m\u001b[0mopsim\u001b[0m\u001b[0;34m]\u001b[0m\u001b[0;34m,\u001b[0m \u001b[0mnoise\u001b[0m\u001b[0;34m,\u001b[0m \u001b[0mamp\u001b[0m\u001b[0;34m)\u001b[0m\u001b[0;34m;\u001b[0m\u001b[0;34m\u001b[0m\u001b[0;34m\u001b[0m\u001b[0m\n",
      "\u001b[0;32m<ipython-input-2-e4c72a89cc20>\u001b[0m in \u001b[0;36mgetOpSimCadence\u001b[0;34m(opsim, name, ra, dec, fil)\u001b[0m\n\u001b[1;32m    284\u001b[0m \u001b[0;34m\u001b[0m\u001b[0m\n\u001b[1;32m    285\u001b[0m     \u001b[0;31m# Run simulation\u001b[0m\u001b[0;34m\u001b[0m\u001b[0;34m\u001b[0m\u001b[0;34m\u001b[0m\u001b[0m\n\u001b[0;32m--> 286\u001b[0;31m     bundle = metricBundles.MetricBundle(\n\u001b[0m\u001b[1;32m    287\u001b[0m         metric, slicer, sqlconstraint, runName=name)\n\u001b[1;32m    288\u001b[0m     bgroup = metricBundles.MetricBundleGroup(\n",
      "\u001b[0;31mNameError\u001b[0m: name 'metricBundles' is not defined"
     ]
    }
   ],
   "source": [
    "# Start everything\n",
    "\n",
    "mjd =  getOpSimCadence(opsdb, opsim, ra, dec, fil);\n",
    "LC_SF_viz(deltatc, long, sigma, tau, [mjd], [opsim], noise, amp);"
   ]
  },
  {
   "cell_type": "code",
   "execution_count": null,
   "metadata": {},
   "outputs": [],
   "source": []
  }
 ],
 "metadata": {
  "kernelspec": {
   "display_name": "Python 3",
   "language": "python",
   "name": "python3"
  },
  "language_info": {
   "codemirror_mode": {
    "name": "ipython",
    "version": 3
   },
   "file_extension": ".py",
   "mimetype": "text/x-python",
   "name": "python",
   "nbconvert_exporter": "python",
   "pygments_lexer": "ipython3",
   "version": "3.7.3"
  }
 },
 "nbformat": 4,
 "nbformat_minor": 4
}
